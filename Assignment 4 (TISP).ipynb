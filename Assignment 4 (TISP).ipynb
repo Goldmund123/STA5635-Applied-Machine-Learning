{
 "cells": [
  {
   "cell_type": "markdown",
   "metadata": {},
   "source": [
    "\\hfill Department of Statistics\n",
    "\n",
    "\\hfill Jaeyeong Kim"
   ]
  },
  {
   "cell_type": "code",
   "execution_count": 1,
   "metadata": {},
   "outputs": [],
   "source": [
    "import numpy as np\n",
    "from sklearn import linear_model\n",
    "from sklearn import preprocessing\n",
    "import pandas as pd\n",
    "import matplotlib.pyplot as plt\n",
    "%matplotlib inline\n",
    "\n",
    "\n",
    "def sigmoid(x):\n",
    "    return 1/(1+np.exp(-x))\n",
    "\n",
    "def score(X_train_scaled, X_valid_scaled, Y_train, Y_valid, w):\n",
    "    #get shapes of the train and the validation data sets\n",
    "    (m,   n) = X_train.shape\n",
    "    (m1, n1) = X_valid.shape\n",
    "    \n",
    "    #save prediction of Y\n",
    "    Y_predict_train = np.zeros((m,1))\n",
    "    Y_predict_valid = np.zeros((m1,1))\n",
    "        \n",
    "    # predict Y of the train set and the test set\n",
    "    h_train = sigmoid(np.dot(X_train_scaled, w))\n",
    "    h_valid = sigmoid(np.dot(X_valid_scaled, w))\n",
    "    for j in range(m):\n",
    "        if h_train[j] >= 0.5:\n",
    "            Y_predict_train[j] = 1\n",
    "        else :\n",
    "            Y_predict_train[j] = 0\n",
    "\n",
    "    for j in range(m1):\n",
    "        if h_valid[j] >= 0.5:\n",
    "            Y_predict_valid[j] = 1\n",
    "        else :\n",
    "            Y_predict_valid[j] = 0\n",
    "            \n",
    "            \n",
    "    #calculate prediction scores\n",
    "    Y_score_train = np.zeros((m,1))\n",
    "    Y_score_valid = np.zeros((m1,1))\n",
    "    for j in range(m):\n",
    "        if Y_predict_train[j] == np.array(Y_train)[j]:\n",
    "            Y_score_train[j] = 1\n",
    "        else :\n",
    "            Y_score_train[j] = 0\n",
    "\n",
    "    for j in range(m1):\n",
    "        if Y_predict_valid[j] == np.array(Y_valid)[j]:\n",
    "            Y_score_valid[j] = 1\n",
    "        else :\n",
    "            Y_score_valid[j] = 0\n",
    "    \n",
    "    score_train = np.sum(Y_score_train) / m\n",
    "    score_valid = np.sum(Y_score_valid) / m1\n",
    "\n",
    "    return score_train, score_valid\n",
    "\n",
    "\n",
    "def feature_selection(X_train, X_valid, Y_train, Y_valid, \\\n",
    "                        lamb, iteration, negative_values):\n",
    "    #get shapes of the train and the validation data sets\n",
    "    m, n = X_train.shape\n",
    "\n",
    "    \n",
    "    #normalize the train and validation data sets.\n",
    "    X = X_train.append(X_valid)\n",
    "    X_scaled = preprocessing.scale(X)\n",
    "    X_train_scaled = X_scaled[:m]\n",
    "    X_valid_scaled = X_scaled[m:]\n",
    "    \n",
    "    #change negtive values from -1 to 0\n",
    "    if negative_values == -1:\n",
    "        Y_train = (Y_train + 1)/2\n",
    "        Y_valid = (Y_valid + 1)/2\n",
    "\n",
    "    #set w0 = 0\n",
    "    w = np.zeros((n,1))\n",
    "    \n",
    "    #save_values\n",
    "    count = 0      #count none zero features\n",
    "    \n",
    "\n",
    "    for i in range(iteration):\n",
    "        z = np.dot(X_train_scaled,w)\n",
    "        h = sigmoid(z)\n",
    "        \n",
    "        w0 = w + 1/m*(np.dot(X_train_scaled.T, Y_train - sigmoid(z)))\n",
    "        for j in range(n):\n",
    "            if np.abs(w0[j]) > lamb:\n",
    "                w[j] = w0[j]\n",
    "                if i == iteration - 1:\n",
    "                    count += 1\n",
    "                else:\n",
    "                    continue\n",
    "            else:\n",
    "                w[j] = 0\n",
    "\n",
    "    \n",
    "    score_train, score_valid = score(X_train_scaled, \\\n",
    "                                X_valid_scaled, Y_train, Y_valid, w)\n",
    "    error_result = [lamb, count, 1-score_train, 1-score_valid]\n",
    "    \n",
    "    return error_result"
   ]
  },
  {
   "cell_type": "markdown",
   "metadata": {},
   "source": [
    "## gisette"
   ]
  },
  {
   "cell_type": "code",
   "execution_count": 8,
   "metadata": {},
   "outputs": [
    {
     "data": {
      "text/html": [
       "<div>\n",
       "<style scoped>\n",
       "    .dataframe tbody tr th:only-of-type {\n",
       "        vertical-align: middle;\n",
       "    }\n",
       "\n",
       "    .dataframe tbody tr th {\n",
       "        vertical-align: top;\n",
       "    }\n",
       "\n",
       "    .dataframe thead th {\n",
       "        text-align: right;\n",
       "    }\n",
       "</style>\n",
       "<table border=\"1\" class=\"dataframe\">\n",
       "  <thead>\n",
       "    <tr style=\"text-align: right;\">\n",
       "      <th></th>\n",
       "      <th>lamb</th>\n",
       "      <th>count</th>\n",
       "      <th>error_train</th>\n",
       "      <th>error_valid</th>\n",
       "    </tr>\n",
       "  </thead>\n",
       "  <tbody>\n",
       "    <tr>\n",
       "      <th>0</th>\n",
       "      <td>0.15</td>\n",
       "      <td>16.0</td>\n",
       "      <td>0.109167</td>\n",
       "      <td>0.118</td>\n",
       "    </tr>\n",
       "    <tr>\n",
       "      <th>1</th>\n",
       "      <td>0.10</td>\n",
       "      <td>69.0</td>\n",
       "      <td>0.045500</td>\n",
       "      <td>0.047</td>\n",
       "    </tr>\n",
       "    <tr>\n",
       "      <th>2</th>\n",
       "      <td>0.07</td>\n",
       "      <td>159.0</td>\n",
       "      <td>0.021500</td>\n",
       "      <td>0.023</td>\n",
       "    </tr>\n",
       "    <tr>\n",
       "      <th>3</th>\n",
       "      <td>0.05</td>\n",
       "      <td>330.0</td>\n",
       "      <td>0.011667</td>\n",
       "      <td>0.016</td>\n",
       "    </tr>\n",
       "  </tbody>\n",
       "</table>\n",
       "</div>"
      ],
      "text/plain": [
       "   lamb  count  error_train  error_valid\n",
       "0  0.15   16.0     0.109167        0.118\n",
       "1  0.10   69.0     0.045500        0.047\n",
       "2  0.07  159.0     0.021500        0.023\n",
       "3  0.05  330.0     0.011667        0.016"
      ]
     },
     "execution_count": 8,
     "metadata": {},
     "output_type": "execute_result"
    }
   ],
   "source": [
    "# Reading in the gisette data set\n",
    "X_train = pd.read_csv('gisette\\gisette_train.data', header = None,\\\n",
    "                      delimiter = ' ').dropna(axis='columns')\n",
    "Y_train = pd.read_csv('gisette\\gisette_train.labels', header = None)\n",
    "\n",
    "X_valid = pd.read_csv('gisette\\gisette_valid.data', header = None, \\\n",
    "                      delimiter = ' ').dropna(axis='columns')\n",
    "Y_valid = pd.read_csv('gisette\\gisette_valid.labels', header = None)\n",
    "\n",
    "#lambs = np.array([0.259, 0.225, 0.165, 0.102])\n",
    "lambs = np.array([0.15, 0.1, 0.07, 0.05])\n",
    "error_results = np.array(np.zeros((lambs.size,4)))\n",
    "i = 0\n",
    "# Run logistic regression\n",
    "for lamb in lambs:\n",
    "    error_result = feature_selection(X_train, X_valid,\\\n",
    "                            Y_train, Y_valid, lamb, 100, -1)\n",
    "    error_results[i] = error_result\n",
    "    i += 1\n",
    "\n",
    "x = pd.DataFrame(data = error_results, columns = ['lamb',\\\n",
    "                                'count', 'error_train', 'error_valid'])\n",
    "x"
   ]
  },
  {
   "cell_type": "code",
   "execution_count": 9,
   "metadata": {},
   "outputs": [
    {
     "data": {
      "image/png": "[encoded data removed]",
      "text/plain": [
       "<Figure size 432x288 with 1 Axes>"
      ]
     },
     "metadata": {},
     "output_type": "display_data"
    }
   ],
   "source": [
    "# Plot the results\n",
    "plt.plot(x['count'], x['error_train'], 'r-', label = 'error_train')\n",
    "plt.plot(x['count'], x['error_valid'], 'b--', label = 'error_valid')\n",
    "plt.xlabel('number of features')\n",
    "plt.ylabel('error')\n",
    "plt.legend(loc='upper right')\n",
    "plt.show()"
   ]
  },
  {
   "cell_type": "markdown",
   "metadata": {},
   "source": [
    "## madelon"
   ]
  },
  {
   "cell_type": "code",
   "execution_count": 10,
   "metadata": {},
   "outputs": [
    {
     "data": {
      "text/html": [
       "<div>\n",
       "<style scoped>\n",
       "    .dataframe tbody tr th:only-of-type {\n",
       "        vertical-align: middle;\n",
       "    }\n",
       "\n",
       "    .dataframe tbody tr th {\n",
       "        vertical-align: top;\n",
       "    }\n",
       "\n",
       "    .dataframe thead th {\n",
       "        text-align: right;\n",
       "    }\n",
       "</style>\n",
       "<table border=\"1\" class=\"dataframe\">\n",
       "  <thead>\n",
       "    <tr style=\"text-align: right;\">\n",
       "      <th></th>\n",
       "      <th>lamb</th>\n",
       "      <th>count</th>\n",
       "      <th>error_train</th>\n",
       "      <th>error_valid</th>\n",
       "    </tr>\n",
       "  </thead>\n",
       "  <tbody>\n",
       "    <tr>\n",
       "      <th>0</th>\n",
       "      <td>0.050</td>\n",
       "      <td>4.0</td>\n",
       "      <td>0.3890</td>\n",
       "      <td>0.393333</td>\n",
       "    </tr>\n",
       "    <tr>\n",
       "      <th>1</th>\n",
       "      <td>0.038</td>\n",
       "      <td>6.0</td>\n",
       "      <td>0.3855</td>\n",
       "      <td>0.400000</td>\n",
       "    </tr>\n",
       "    <tr>\n",
       "      <th>2</th>\n",
       "      <td>0.020</td>\n",
       "      <td>67.0</td>\n",
       "      <td>0.3360</td>\n",
       "      <td>0.428333</td>\n",
       "    </tr>\n",
       "    <tr>\n",
       "      <th>3</th>\n",
       "      <td>0.008</td>\n",
       "      <td>279.0</td>\n",
       "      <td>0.2700</td>\n",
       "      <td>0.431667</td>\n",
       "    </tr>\n",
       "  </tbody>\n",
       "</table>\n",
       "</div>"
      ],
      "text/plain": [
       "    lamb  count  error_train  error_valid\n",
       "0  0.050    4.0       0.3890     0.393333\n",
       "1  0.038    6.0       0.3855     0.400000\n",
       "2  0.020   67.0       0.3360     0.428333\n",
       "3  0.008  279.0       0.2700     0.431667"
      ]
     },
     "execution_count": 10,
     "metadata": {},
     "output_type": "execute_result"
    }
   ],
   "source": [
    "# Reading in the MADELON data set\n",
    "X_train = pd.read_csv('madelon\\madelon_train.data', header = None,\\\n",
    "                      delimiter = ' ').dropna(axis='columns')\n",
    "Y_train = pd.read_csv('madelon\\madelon_train.labels', header = None)\n",
    "\n",
    "X_valid = pd.read_csv('madelon\\madelon_valid.data', header = None, \\\n",
    "                      delimiter = ' ').dropna(axis='columns')\n",
    "Y_valid = pd.read_csv('madelon\\madelon_valid.labels', header = None)\n",
    "\n",
    "#lambs = np.array([0.05, 0.042, 0.0231, 0])\n",
    "lambs = np.array([0.05, 0.038, 0.02, 0.008])\n",
    "error_results = np.array(np.zeros((lambs.size,4)))\n",
    "i = 0\n",
    "# Run logistic regression\n",
    "for lamb in lambs:\n",
    "    error_result = feature_selection(X_train, X_valid,\\\n",
    "                            Y_train, Y_valid, lamb, 100, -1)\n",
    "    error_results[i] = error_result\n",
    "    i += 1\n",
    "\n",
    "x = pd.DataFrame(data = error_results, columns = ['lamb',\\\n",
    "                                'count', 'error_train', 'error_valid'])\n",
    "x"
   ]
  },
  {
   "cell_type": "code",
   "execution_count": 11,
   "metadata": {},
   "outputs": [
    {
     "data": {
      "image/png": "[encoded data removed]",
      "text/plain": [
       "<Figure size 432x288 with 1 Axes>"
      ]
     },
     "metadata": {},
     "output_type": "display_data"
    }
   ],
   "source": [
    "# Plot the results\n",
    "plt.plot(x['count'], x['error_train'], 'r-', label = 'error_train')\n",
    "plt.plot(x['count'], x['error_valid'], 'b--', label = 'error_valid')\n",
    "plt.xlabel('number of features')\n",
    "plt.ylabel('error')\n",
    "plt.legend(loc='right')\n",
    "plt.show()"
   ]
  },
  {
   "cell_type": "markdown",
   "metadata": {},
   "source": [
    "## dexter"
   ]
  },
  {
   "cell_type": "code",
   "execution_count": 12,
   "metadata": {
    "scrolled": false
   },
   "outputs": [
    {
     "data": {
      "text/html": [
       "<div>\n",
       "<style scoped>\n",
       "    .dataframe tbody tr th:only-of-type {\n",
       "        vertical-align: middle;\n",
       "    }\n",
       "\n",
       "    .dataframe tbody tr th {\n",
       "        vertical-align: top;\n",
       "    }\n",
       "\n",
       "    .dataframe thead th {\n",
       "        text-align: right;\n",
       "    }\n",
       "</style>\n",
       "<table border=\"1\" class=\"dataframe\">\n",
       "  <thead>\n",
       "    <tr style=\"text-align: right;\">\n",
       "      <th></th>\n",
       "      <th>lamb</th>\n",
       "      <th>count</th>\n",
       "      <th>error_train</th>\n",
       "      <th>error_valid</th>\n",
       "    </tr>\n",
       "  </thead>\n",
       "  <tbody>\n",
       "    <tr>\n",
       "      <th>0</th>\n",
       "      <td>0.17</td>\n",
       "      <td>3.0</td>\n",
       "      <td>0.270000</td>\n",
       "      <td>0.286667</td>\n",
       "    </tr>\n",
       "    <tr>\n",
       "      <th>1</th>\n",
       "      <td>0.10</td>\n",
       "      <td>31.0</td>\n",
       "      <td>0.063333</td>\n",
       "      <td>0.133333</td>\n",
       "    </tr>\n",
       "    <tr>\n",
       "      <th>2</th>\n",
       "      <td>0.08</td>\n",
       "      <td>96.0</td>\n",
       "      <td>0.026667</td>\n",
       "      <td>0.100000</td>\n",
       "    </tr>\n",
       "    <tr>\n",
       "      <th>3</th>\n",
       "      <td>0.05</td>\n",
       "      <td>850.0</td>\n",
       "      <td>0.000000</td>\n",
       "      <td>0.093333</td>\n",
       "    </tr>\n",
       "  </tbody>\n",
       "</table>\n",
       "</div>"
      ],
      "text/plain": [
       "   lamb  count  error_train  error_valid\n",
       "0  0.17    3.0     0.270000     0.286667\n",
       "1  0.10   31.0     0.063333     0.133333\n",
       "2  0.08   96.0     0.026667     0.100000\n",
       "3  0.05  850.0     0.000000     0.093333"
      ]
     },
     "execution_count": 12,
     "metadata": {},
     "output_type": "execute_result"
    }
   ],
   "source": [
    "# Reading in the dexter data set\n",
    "X_train = pd.read_csv('dexter\\dexter_train.csv', header = None)\\\n",
    "                      .dropna(axis='columns')\n",
    "Y_train = pd.read_csv('dexter\\dexter_train.labels', header = None)\n",
    "\n",
    "X_valid = pd.read_csv('dexter\\dexter_valid.csv', header = None)\\\n",
    "                      .dropna(axis='columns')\n",
    "Y_valid = pd.read_csv('dexter\\dexter_valid.labels', header = None)\n",
    "\n",
    "#lambs = np.array([0.235, 0.185, 0.12, 0.09])\n",
    "lambs = np.array([0.17, 0.10, 0.08, 0.05])\n",
    "error_results = np.array(np.zeros((lambs.size,4)))\n",
    "i = 0\n",
    "# Run logistic regression\n",
    "for lamb in lambs:\n",
    "    error_result = feature_selection(X_train, X_valid,\\\n",
    "                            Y_train, Y_valid, lamb, 100, -1)\n",
    "    error_results[i] = error_result\n",
    "    i += 1\n",
    "\n",
    "x = pd.DataFrame(data = error_results, columns = ['lamb',\\\n",
    "                                'count', 'error_train', 'error_valid'])\n",
    "x"
   ]
  },
  {
   "cell_type": "code",
   "execution_count": 13,
   "metadata": {},
   "outputs": [
    {
     "data": {
      "image/png": "[encoded data removed]",
      "text/plain": [
       "<Figure size 432x288 with 1 Axes>"
      ]
     },
     "metadata": {},
     "output_type": "display_data"
    }
   ],
   "source": [
    "# Plot the results\n",
    "plt.plot(x['count'], x['error_train'], 'r-', label = 'error_train')\n",
    "plt.plot(x['count'], x['error_valid'], 'b--', label = 'error_valid')\n",
    "plt.xlabel('number of features')\n",
    "plt.ylabel('error')\n",
    "plt.legend(loc='right')\n",
    "plt.show()"
   ]
  },
  {
   "cell_type": "code",
   "execution_count": null,
   "metadata": {},
   "outputs": [],
   "source": []
  }
 ],
 "metadata": {
  "kernelspec": {
   "display_name": "Python 3",
   "language": "python",
   "name": "python3"
  },
  "language_info": {
   "codemirror_mode": {
    "name": "ipython",
    "version": 3
   },
   "file_extension": ".py",
   "mimetype": "text/x-python",
   "name": "python",
   "nbconvert_exporter": "python",
   "pygments_lexer": "ipython3",
   "version": "3.6.5"
  }
 },
 "nbformat": 4,
 "nbformat_minor": 2
}
