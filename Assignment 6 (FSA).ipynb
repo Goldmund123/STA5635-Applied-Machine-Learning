{
 "cells": [
  {
   "cell_type": "markdown",
   "metadata": {},
   "source": [
    "\\hfill Department of Statistics\n",
    "\n",
    "\\hfill Jaeyeong Kim"
   ]
  },
  {
   "cell_type": "code",
   "execution_count": 1,
   "metadata": {},
   "outputs": [],
   "source": [
    "import numpy as np\n",
    "from sklearn import linear_model\n",
    "from sklearn import preprocessing\n",
    "import pandas as pd\n",
    "\n",
    "def sigmoid(x):\n",
    "    return 1/(1+np.exp(-np.float32(x)))\n",
    "\n",
    "def score(X_train_scaled, X_valid_scaled, Y_train, Y_valid, w):\n",
    "    #get shapes of the train and the validation data sets\n",
    "    (m,   n) = X_train.shape\n",
    "    (m1, n1) = X_valid.shape\n",
    "    \n",
    "    #save prediction of Y\n",
    "    Y_predict_train = np.zeros((m,1))\n",
    "    Y_predict_valid = np.zeros((m1,1))\n",
    "        \n",
    "    # predict Y of the train set and the test set\n",
    "    h_train = sigmoid(np.dot(X_train_scaled, w))\n",
    "    h_valid = sigmoid(np.dot(X_valid_scaled, w))\n",
    "    \n",
    "    Y_predict_train[h_train > 0.5] = 1\n",
    "    Y_predict_train[h_train <= 0.5] = -1\n",
    "\n",
    "    Y_predict_valid[h_valid > 0.5] = 1\n",
    "    Y_predict_valid[h_valid <= 0.5] = -1\n",
    "            \n",
    "            \n",
    "    #calculate prediction scores\n",
    "    Y_score_train = 0\n",
    "    Y_score_valid = 0\n",
    "    \n",
    "    for j in range(m):\n",
    "        if Y_predict_train[j] == np.array(Y_train)[j]:\n",
    "            Y_score_train += 1\n",
    "        else :\n",
    "            continue\n",
    "\n",
    "    for j in range(m1):\n",
    "        if Y_predict_valid[j] == np.array(Y_valid)[j]:\n",
    "            Y_score_valid += 1\n",
    "        else :\n",
    "            continue\n",
    "    \n",
    "    score_train = Y_score_train / m\n",
    "    score_valid = Y_score_valid / m1\n",
    "\n",
    "    return score_train, score_valid\n",
    "\n",
    "\n",
    "def fsa(X_train, X_valid, Y_train, Y_valid, \\\n",
    "                        learning_rate, iteration, eta0, k, has_loss):\n",
    "    #get shapes of the train and the validation data sets\n",
    "    m, n = X_train.shape\n",
    "    m1,n1 = X_valid.shape\n",
    "\n",
    "    #set w0 = 0\n",
    "    w = np.zeros((n,1))\n",
    "    loss = []\n",
    "    \n",
    "    for i in range(iteration):\n",
    "        xb = np.dot(X_train,w)\n",
    "        yxb = np.multiply(Y_train, xb)\n",
    "        \n",
    "        #make dummy function (if yxb<=1 then I = 1, else I = 0)\n",
    "        I = np.copy(yxb)\n",
    "        I[yxb<=1] = 1\n",
    "        I[yxb>1] = 0\n",
    "        \n",
    "        #calculate losses\n",
    "        if has_loss == True:\n",
    "           \n",
    "            loss1 = 1/m * np.sum(np.multiply(I, \\\n",
    "                np.log(np.float32(1+np.power(yxb-1,2))))) + 0.001 * 1/m * np.dot(w.T, w)\n",
    "            loss.append([i+1, loss1])        \n",
    "\n",
    "        #update w\n",
    "        numerator = np.multiply(I, 2* np.multiply(Y_train,(yxb-1)))\n",
    "        denominator = (1 + np.power((yxb-1),2))\n",
    "        grad = np.dot(X_train.T, np.divide(numerator, denominator)) + 2 * 0.001 * w\n",
    "        w = w - learning_rate / m * grad\n",
    "        \n",
    "\n",
    "        #feature selection\n",
    "        if w.shape[0] > k:\n",
    "            w1 = w.reshape(-1)\n",
    "            sb = w1[:, np.argsort(-abs(w1))].reshape(-1)\n",
    "            M = k + int((n-k) * max(0, (iteration - 2*(i+1))/(2*(i+1)*eta0 + iteration)))\n",
    "            if w.shape[0] > M:\n",
    "                j = np.where(np.abs(w1) >= abs(sb[:,M-1]))\n",
    "                X_train = np.where(np.abs(w1) >= abs(sb[:,M-1]), X_train, None)\n",
    "                X_train = pd.DataFrame(X_train)\n",
    "                X_train = np.matrix(X_train.dropna(axis = 1))\n",
    "                \n",
    "                X_valid = np.where(np.abs(w1) >= abs(sb[:,M-1]), X_valid, None)\n",
    "                X_valid = pd.DataFrame(X_valid)\n",
    "                X_valid = np.matrix(X_valid.dropna(axis = 1))\n",
    "                \n",
    "                w1 = w1[j]\n",
    "                w = w1.T\n",
    "\n",
    "            else:\n",
    "                continue\n",
    "        else:\n",
    "            continue\n",
    "        \n",
    "  \n",
    "    score_train, score_valid = score(X_train, \\\n",
    "                                X_valid, Y_train, Y_valid, w)\n",
    "    error_result = [k, 1-score_train, 1-score_valid]\n",
    "    \n",
    "    return error_result, loss"
   ]
  },
  {
   "cell_type": "markdown",
   "metadata": {},
   "source": [
    "## gisette"
   ]
  },
  {
   "cell_type": "code",
   "execution_count": 8,
   "metadata": {},
   "outputs": [
    {
     "name": "stderr",
     "output_type": "stream",
     "text": [
      "C:\\Users\\Jay_Kim\\Anaconda3\\lib\\site-packages\\ipykernel_launcher.py:15: DataConversionWarning: Data with input dtype int64 were all converted to float64 by the scale function.\n",
      "  from ipykernel import kernelapp as app\n",
      "C:\\Users\\Jay_Kim\\Anaconda3\\lib\\site-packages\\ipykernel_launcher.py:16: DataConversionWarning: Data with input dtype int64 were all converted to float64 by the scale function.\n",
      "  app.launch_new_instance()\n"
     ]
    },
    {
     "data": {
      "text/html": [
       "<div>\n",
       "<style scoped>\n",
       "    .dataframe tbody tr th:only-of-type {\n",
       "        vertical-align: middle;\n",
       "    }\n",
       "\n",
       "    .dataframe tbody tr th {\n",
       "        vertical-align: top;\n",
       "    }\n",
       "\n",
       "    .dataframe thead th {\n",
       "        text-align: right;\n",
       "    }\n",
       "</style>\n",
       "<table border=\"1\" class=\"dataframe\">\n",
       "  <thead>\n",
       "    <tr style=\"text-align: right;\">\n",
       "      <th></th>\n",
       "      <th>k</th>\n",
       "      <th>error_train</th>\n",
       "      <th>error_valid</th>\n",
       "    </tr>\n",
       "  </thead>\n",
       "  <tbody>\n",
       "    <tr>\n",
       "      <th>0</th>\n",
       "      <td>10.0</td>\n",
       "      <td>0.075000</td>\n",
       "      <td>0.082</td>\n",
       "    </tr>\n",
       "    <tr>\n",
       "      <th>1</th>\n",
       "      <td>30.0</td>\n",
       "      <td>0.036333</td>\n",
       "      <td>0.047</td>\n",
       "    </tr>\n",
       "    <tr>\n",
       "      <th>2</th>\n",
       "      <td>100.0</td>\n",
       "      <td>0.010333</td>\n",
       "      <td>0.026</td>\n",
       "    </tr>\n",
       "    <tr>\n",
       "      <th>3</th>\n",
       "      <td>300.0</td>\n",
       "      <td>0.004167</td>\n",
       "      <td>0.017</td>\n",
       "    </tr>\n",
       "  </tbody>\n",
       "</table>\n",
       "</div>"
      ],
      "text/plain": [
       "       k  error_train  error_valid\n",
       "0   10.0     0.075000        0.082\n",
       "1   30.0     0.036333        0.047\n",
       "2  100.0     0.010333        0.026\n",
       "3  300.0     0.004167        0.017"
      ]
     },
     "execution_count": 8,
     "metadata": {},
     "output_type": "execute_result"
    }
   ],
   "source": [
    "# Reading in the gisette data set\n",
    "X_train = pd.read_csv('gisette\\gisette_train.data', header = None,\\\n",
    "                      delimiter = ' ').dropna(axis='columns')\n",
    "Y_train = pd.read_csv('gisette\\gisette_train.labels', header = None)\n",
    "\n",
    "X_valid = pd.read_csv('gisette\\gisette_valid.data', header = None, \\\n",
    "                      delimiter = ' ').dropna(axis='columns')\n",
    "Y_valid = pd.read_csv('gisette\\gisette_valid.labels', header = None)\n",
    "\n",
    "ks = np.array([10, 30, 100, 300])\n",
    "error_results = np.array(np.zeros((ks.size,3)))\n",
    "ws = np.array(np.zeros((ks.size,2)))\n",
    "\n",
    "i = 0\n",
    "\n",
    "#normalize the train and validation data sets.\n",
    "X_train = np.matrix(preprocessing.scale(X_train))\n",
    "X_valid = np.matrix(preprocessing.scale(X_valid))\n",
    "Y_train = np.matrix(Y_train)\n",
    "Y_valid = np.matrix(Y_valid)\n",
    "\n",
    "# Run logistic regression\n",
    "for k in ks:\n",
    "    #X_train, X_valid, Y_train, Y_valid, learning_rate, iteration, eta0, k, has_loss\n",
    "    if k == 10:\n",
    "        error_result, loss_10 = fsa(X_train, X_valid, Y_train, Y_valid, \\\n",
    "                        1, 500, 20, k, True)\n",
    "    else :\n",
    "        error_result, loss = fsa(X_train, X_valid, Y_train, Y_valid, \\\n",
    "                        1, 500, 20, k, False)\n",
    "    error_results[i] = error_result\n",
    "    i += 1\n",
    "\n",
    "x = pd.DataFrame(data = error_results, columns = ['k',\\\n",
    "                                'error_train', 'error_valid'])\n",
    "y = pd.DataFrame(data = loss_10, columns = ['iteration', 'loss'])\n",
    "\n",
    "x"
   ]
  },
  {
   "cell_type": "code",
   "execution_count": 9,
   "metadata": {},
   "outputs": [
    {
     "data": {
      "image/png": "[encoded data removed]",
      "text/plain": [
       "<Figure size 720x216 with 2 Axes>"
      ]
     },
     "metadata": {
      "needs_background": "light"
     },
     "output_type": "display_data"
    }
   ],
   "source": [
    "# Plot the results\n",
    "plt.figure(figsize=(10,3))\n",
    "plt.subplot(121)\n",
    "plt.plot(x['k'], x['error_train'], 'r-*', label='error of train set')\n",
    "plt.plot(x['k'], x['error_valid'], 'b-o', label='error of valid set')\n",
    "plt.xlabel('number of features')\n",
    "plt.ylabel('errors')\n",
    "plt.legend()\n",
    "\n",
    "plt.subplot(122)\n",
    "plt.plot(y['iteration'], y['loss'], 'r-', label='k=10')\n",
    "plt.xlabel('number of iteration')\n",
    "plt.ylabel('loss')\n",
    "plt.legend()\n",
    "plt.show()"
   ]
  },
  {
   "cell_type": "markdown",
   "metadata": {},
   "source": [
    "## madelon"
   ]
  },
  {
   "cell_type": "code",
   "execution_count": 2,
   "metadata": {},
   "outputs": [
    {
     "name": "stderr",
     "output_type": "stream",
     "text": [
      "C:\\Users\\Jay_Kim\\Anaconda3\\lib\\site-packages\\ipykernel_launcher.py:16: DataConversionWarning: Data with input dtype int64 were all converted to float64 by the scale function.\n",
      "  app.launch_new_instance()\n",
      "C:\\Users\\Jay_Kim\\Anaconda3\\lib\\site-packages\\ipykernel_launcher.py:17: DataConversionWarning: Data with input dtype int64 were all converted to float64 by the scale function.\n"
     ]
    },
    {
     "data": {
      "text/html": [
       "<div>\n",
       "<style scoped>\n",
       "    .dataframe tbody tr th:only-of-type {\n",
       "        vertical-align: middle;\n",
       "    }\n",
       "\n",
       "    .dataframe tbody tr th {\n",
       "        vertical-align: top;\n",
       "    }\n",
       "\n",
       "    .dataframe thead th {\n",
       "        text-align: right;\n",
       "    }\n",
       "</style>\n",
       "<table border=\"1\" class=\"dataframe\">\n",
       "  <thead>\n",
       "    <tr style=\"text-align: right;\">\n",
       "      <th></th>\n",
       "      <th>k</th>\n",
       "      <th>error_train</th>\n",
       "      <th>error_valid</th>\n",
       "    </tr>\n",
       "  </thead>\n",
       "  <tbody>\n",
       "    <tr>\n",
       "      <th>0</th>\n",
       "      <td>10.0</td>\n",
       "      <td>0.3800</td>\n",
       "      <td>0.401667</td>\n",
       "    </tr>\n",
       "    <tr>\n",
       "      <th>1</th>\n",
       "      <td>30.0</td>\n",
       "      <td>0.3475</td>\n",
       "      <td>0.415000</td>\n",
       "    </tr>\n",
       "    <tr>\n",
       "      <th>2</th>\n",
       "      <td>100.0</td>\n",
       "      <td>0.3040</td>\n",
       "      <td>0.443333</td>\n",
       "    </tr>\n",
       "    <tr>\n",
       "      <th>3</th>\n",
       "      <td>300.0</td>\n",
       "      <td>0.2525</td>\n",
       "      <td>0.423333</td>\n",
       "    </tr>\n",
       "  </tbody>\n",
       "</table>\n",
       "</div>"
      ],
      "text/plain": [
       "       k  error_train  error_valid\n",
       "0   10.0       0.3800     0.401667\n",
       "1   30.0       0.3475     0.415000\n",
       "2  100.0       0.3040     0.443333\n",
       "3  300.0       0.2525     0.423333"
      ]
     },
     "execution_count": 2,
     "metadata": {},
     "output_type": "execute_result"
    }
   ],
   "source": [
    "# Reading in the MADELON data set\n",
    "X_train = pd.read_csv('madelon\\madelon_train.data', header = None,\\\n",
    "                      delimiter = ' ').dropna(axis='columns')\n",
    "Y_train = pd.read_csv('madelon\\madelon_train.labels', header = None)\n",
    "\n",
    "X_valid = pd.read_csv('madelon\\madelon_valid.data', header = None, \\\n",
    "                      delimiter = ' ').dropna(axis='columns')\n",
    "Y_valid = pd.read_csv('madelon\\madelon_valid.labels', header = None)\n",
    "\n",
    "ks = np.array([10, 30, 100, 300])\n",
    "error_results = np.array(np.zeros((ks.size,3)))\n",
    "ws = np.array(np.zeros((ks.size,2)))\n",
    "\n",
    "i = 0\n",
    "\n",
    "    \n",
    "#normalize the train and validation data sets.\n",
    "X_train = np.matrix(preprocessing.scale(X_train))\n",
    "X_valid = np.matrix(preprocessing.scale(X_valid))\n",
    "Y_train = np.matrix(Y_train)\n",
    "Y_valid = np.matrix(Y_valid)\n",
    "\n",
    "\n",
    "# Run logistic regression\n",
    "for k in ks:\n",
    "    #X_train, X_valid, Y_train, Y_valid, learning_rate, iteration, eta0, k, has_loss\n",
    "    if k == 10:\n",
    "        error_result, loss_10 = fsa(X_train, X_valid, Y_train, Y_valid, \\\n",
    "                        0.01, 500, 10, k, True)\n",
    "    else :\n",
    "        error_result, loss = fsa(X_train, X_valid, Y_train, Y_valid, \\\n",
    "                        0.01, 500, 10, k, False)\n",
    "    error_results[i] = error_result\n",
    "    i += 1\n",
    "\n",
    "x = pd.DataFrame(data = error_results, columns = ['k',\\\n",
    "                                'error_train', 'error_valid'])\n",
    "y = pd.DataFrame(data = loss_10, columns = ['iteration', 'loss'])\n",
    "\n",
    "x"
   ]
  },
  {
   "cell_type": "code",
   "execution_count": 3,
   "metadata": {
    "scrolled": true
   },
   "outputs": [
    {
     "data": {
      "image/png": "[encoded data removed]",
      "text/plain": [
       "<Figure size 720x216 with 2 Axes>"
      ]
     },
     "metadata": {
      "needs_background": "light"
     },
     "output_type": "display_data"
    }
   ],
   "source": [
    "import matplotlib.pyplot as plt\n",
    "%matplotlib inline\n",
    "\n",
    "# Plot the results\n",
    "plt.figure(figsize=(10,3))\n",
    "plt.subplot(121)\n",
    "plt.plot(x['k'], x['error_train'], 'r-*', label='error of train set')\n",
    "plt.plot(x['k'], x['error_valid'], 'b-o', label='error of valid set')\n",
    "plt.xlabel('number of features')\n",
    "plt.ylabel('errors')\n",
    "plt.legend()\n",
    "\n",
    "plt.subplot(122)\n",
    "plt.plot(y['iteration'], y['loss'], 'r-', label='k=10')\n",
    "plt.xlabel('number of iteration')\n",
    "plt.ylabel('loss')\n",
    "plt.legend()\n",
    "plt.show()\n"
   ]
  },
  {
   "cell_type": "markdown",
   "metadata": {},
   "source": [
    "## dexter"
   ]
  },
  {
   "cell_type": "code",
   "execution_count": 12,
   "metadata": {
    "scrolled": false
   },
   "outputs": [
    {
     "name": "stderr",
     "output_type": "stream",
     "text": [
      "C:\\Users\\Jay_Kim\\Anaconda3\\lib\\site-packages\\ipykernel_launcher.py:15: DataConversionWarning: Data with input dtype int64 were all converted to float64 by the scale function.\n",
      "  from ipykernel import kernelapp as app\n",
      "C:\\Users\\Jay_Kim\\Anaconda3\\lib\\site-packages\\ipykernel_launcher.py:16: DataConversionWarning: Data with input dtype int64 were all converted to float64 by the scale function.\n",
      "  app.launch_new_instance()\n"
     ]
    },
    {
     "data": {
      "text/html": [
       "<div>\n",
       "<style scoped>\n",
       "    .dataframe tbody tr th:only-of-type {\n",
       "        vertical-align: middle;\n",
       "    }\n",
       "\n",
       "    .dataframe tbody tr th {\n",
       "        vertical-align: top;\n",
       "    }\n",
       "\n",
       "    .dataframe thead th {\n",
       "        text-align: right;\n",
       "    }\n",
       "</style>\n",
       "<table border=\"1\" class=\"dataframe\">\n",
       "  <thead>\n",
       "    <tr style=\"text-align: right;\">\n",
       "      <th></th>\n",
       "      <th>k</th>\n",
       "      <th>error_train</th>\n",
       "      <th>error_valid</th>\n",
       "    </tr>\n",
       "  </thead>\n",
       "  <tbody>\n",
       "    <tr>\n",
       "      <th>0</th>\n",
       "      <td>10.0</td>\n",
       "      <td>0.130000</td>\n",
       "      <td>0.180000</td>\n",
       "    </tr>\n",
       "    <tr>\n",
       "      <th>1</th>\n",
       "      <td>30.0</td>\n",
       "      <td>0.046667</td>\n",
       "      <td>0.113333</td>\n",
       "    </tr>\n",
       "    <tr>\n",
       "      <th>2</th>\n",
       "      <td>100.0</td>\n",
       "      <td>0.003333</td>\n",
       "      <td>0.083333</td>\n",
       "    </tr>\n",
       "    <tr>\n",
       "      <th>3</th>\n",
       "      <td>300.0</td>\n",
       "      <td>0.000000</td>\n",
       "      <td>0.080000</td>\n",
       "    </tr>\n",
       "  </tbody>\n",
       "</table>\n",
       "</div>"
      ],
      "text/plain": [
       "       k  error_train  error_valid\n",
       "0   10.0     0.130000     0.180000\n",
       "1   30.0     0.046667     0.113333\n",
       "2  100.0     0.003333     0.083333\n",
       "3  300.0     0.000000     0.080000"
      ]
     },
     "execution_count": 12,
     "metadata": {},
     "output_type": "execute_result"
    }
   ],
   "source": [
    "# Reading in the dexter data set\n",
    "X_train = pd.read_csv('dexter\\dexter_train.csv', header = None)\\\n",
    "                      .dropna(axis='columns')\n",
    "Y_train = pd.read_csv('dexter\\dexter_train.labels', header = None)\n",
    "\n",
    "X_valid = pd.read_csv('dexter\\dexter_valid.csv', header = None)\\\n",
    "                      .dropna(axis='columns')\n",
    "Y_valid = pd.read_csv('dexter\\dexter_valid.labels', header = None)\n",
    "\n",
    "ks = np.array([10, 30, 100, 300])\n",
    "error_results = np.array(np.zeros((ks.size,3)))\n",
    "ws = np.array(np.zeros((ks.size,2)))\n",
    "\n",
    "i = 0\n",
    "\n",
    "#normalize the train and validation data sets.\n",
    "X_train = np.matrix(preprocessing.scale(X_train))\n",
    "X_valid = np.matrix(preprocessing.scale(X_valid))\n",
    "Y_train = np.matrix(Y_train)\n",
    "Y_valid = np.matrix(Y_valid)\n",
    "\n",
    "# Run logistic regression\n",
    "for k in ks:\n",
    "    #X_train, X_valid, Y_train, Y_valid, learning_rate, iteration, eta0, k, has_loss\n",
    "    if k == 10:\n",
    "        error_result, loss_10 = fsa(X_train, X_valid, Y_train, Y_valid, \\\n",
    "                        3, 500, 10, k, True)\n",
    "    else :\n",
    "        error_result, loss = fsa(X_train, X_valid, Y_train, Y_valid, \\\n",
    "                        3, 500, 10, k, False)\n",
    "    error_results[i] = error_result\n",
    "    i += 1\n",
    "\n",
    "x = pd.DataFrame(data = error_results, columns = ['k',\\\n",
    "                                'error_train', 'error_valid'])\n",
    "y = pd.DataFrame(data = loss_10, columns = ['iteration', 'loss'])\n",
    "\n",
    "x"
   ]
  },
  {
   "cell_type": "code",
   "execution_count": 13,
   "metadata": {},
   "outputs": [
    {
     "data": {
      "image/png": "[encoded data removed]",
      "text/plain": [
       "<Figure size 720x216 with 2 Axes>"
      ]
     },
     "metadata": {
      "needs_background": "light"
     },
     "output_type": "display_data"
    }
   ],
   "source": [
    "# Plot the results\n",
    "plt.figure(figsize=(10,3))\n",
    "plt.subplot(121)\n",
    "plt.plot(x['k'], x['error_train'], 'r-*', label='error of train set')\n",
    "plt.plot(x['k'], x['error_valid'], 'b-o', label='error of valid set')\n",
    "plt.xlabel('number of features')\n",
    "plt.ylabel('errors')\n",
    "plt.legend()\n",
    "\n",
    "plt.subplot(122)\n",
    "plt.plot(y['iteration'], y['loss'], 'r-', label='k=10')\n",
    "plt.xlabel('number of iteration')\n",
    "plt.ylabel('loss')\n",
    "plt.legend()\n",
    "plt.show()"
   ]
  },
  {
   "cell_type": "code",
   "execution_count": null,
   "metadata": {},
   "outputs": [],
   "source": []
  }
 ],
 "metadata": {
  "kernelspec": {
   "display_name": "Python 3",
   "language": "python",
   "name": "python3"
  },
  "language_info": {
   "codemirror_mode": {
    "name": "ipython",
    "version": 3
   },
   "file_extension": ".py",
   "mimetype": "text/x-python",
   "name": "python",
   "nbconvert_exporter": "python",
   "pygments_lexer": "ipython3",
   "version": "3.6.5"
  }
 },
 "nbformat": 4,
 "nbformat_minor": 2
}
