{
 "cells": [
  {
   "cell_type": "markdown",
   "metadata": {},
   "source": [
    "\\hfill Department of Statistics\n",
    "\n",
    "\\hfill Jaeyeong Kim, Alex Ruiz"
   ]
  },
  {
   "cell_type": "code",
   "execution_count": 1,
   "metadata": {},
   "outputs": [],
   "source": [
    "from theano import config\n",
    "THEANO_FLAGS='mode=FAST_RUN,device=gpu,floatX=float32 python my_keras_script.py'"
   ]
  },
  {
   "cell_type": "code",
   "execution_count": 2,
   "metadata": {},
   "outputs": [
    {
     "name": "stderr",
     "output_type": "stream",
     "text": [
      "Using Theano backend.\n"
     ]
    }
   ],
   "source": [
    "from keras.models import Sequential\n",
    "from keras.layers import Dense\n",
    "from keras.optimizers import Adam\n",
    "import numpy as np\n",
    "\n",
    "def one_NN(X_train, Y_train, X_test, Y_test, k, learning_rate, n_batch):\n",
    "    m, n = X_train.shape\n",
    "    # create model\n",
    "    model = Sequential()\n",
    "    model.add(Dense(k, input_dim = n, activation='relu'))\n",
    "    model.add(Dense(1, activation='sigmoid'))\n",
    "    # Optimizer\n",
    "    adam = Adam(lr=learning_rate, beta_1=0.9, beta_2=0.999, epsilon=None,\\\n",
    "                decay=0.0, amsgrad=False)\n",
    "    # Compile model\n",
    "    model.compile(loss='binary_crossentropy', optimizer=adam, metrics=['acc'])\n",
    "    # Fit the model\n",
    "    model.fit(X_train, Y_train, epochs=100, batch_size=n_batch, verbose = 0)\n",
    "    # evaluate the model\n",
    "    score_train = model.evaluate(X_train, Y_train, verbose = 0)\n",
    "    score_test = model.evaluate(X_test, Y_test, verbose = 0)\n",
    "    scores = score_train, score_test\n",
    "    return scores\n",
    "\n",
    "\n",
    "\n",
    "def two_NN(X_train, Y_train, X_test, Y_test, k, learning_rate, n_batch):\n",
    "    m, n = X_train.shape\n",
    "    # create model\n",
    "    model = Sequential()\n",
    "    model.add(Dense(128, input_dim=n, activation='relu'))\n",
    "    model.add(Dense(k, activation='relu'))\n",
    "    model.add(Dense(1, activation='sigmoid'))\n",
    "    # Optimizer\n",
    "    adam = Adam(lr=learning_rate, beta_1=0.9, beta_2=0.999, epsilon=None, \\\n",
    "                decay=0.0, amsgrad=False)\n",
    "    # Compile model\n",
    "    model.compile(loss='binary_crossentropy', optimizer=adam, metrics=['acc'])\n",
    "    # Fit the model\n",
    "    model.fit(X_train, Y_train, epochs=100, batch_size=n_batch, verbose = 0)\n",
    "    # evaluate the model\n",
    "    score_train = model.evaluate(X_train, Y_train, verbose = 0)\n",
    "    score_test = model.evaluate(X_test, Y_test, verbose = 0)\n",
    "    scores = score_train, score_test\n",
    "    return scores\n",
    "\n"
   ]
  },
  {
   "cell_type": "markdown",
   "metadata": {},
   "source": [
    "## MiniBooNE"
   ]
  },
  {
   "cell_type": "code",
   "execution_count": 3,
   "metadata": {
    "scrolled": true
   },
   "outputs": [],
   "source": [
    "import pandas as pd\n",
    "from sklearn import preprocessing\n",
    "from sklearn.model_selection import train_test_split\n",
    "\n",
    "# Reading in the gisette data set\n",
    "data = pd.read_csv('Miniboone\\MiniBooNE.csv', header = None,)#.dropna(axis='columns')\n",
    "X_data = data.loc[:,1:]\n",
    "Y_data = data[0]\n",
    "\n",
    "ks = np.array([32, 64, 128, 256])\n",
    "\n",
    "error_results = []\n",
    "# Run logistic regression\n",
    "for k in ks:\n",
    "    error_randoms = []\n",
    "    for i in range(10):\n",
    "        #train test split\n",
    "        X_train, X_test, Y_train, Y_test = train_test_split(X_data, Y_data,\\\n",
    "                                            random_state = i, test_size = 0.2)\n",
    "        #normalize the train and validation data sets.\n",
    "        X_train = preprocessing.scale(X_train)\n",
    "        X_test = preprocessing.scale(X_test)\n",
    "        \n",
    "        scores = one_NN(X_train, Y_train, X_test, Y_test, k, 0.01, 256)\n",
    "        score_train, score_test = scores\n",
    "        error_randoms.append((1-np.float32(score_train[1]), \\\n",
    "                              1-np.float32(score_test[1])))\n",
    "    error_results.append((k, np.mean(error_randoms[0]), \\\n",
    "                          np.mean(error_randoms[1])))\n",
    "    \n",
    "x1 = pd.DataFrame(data = error_results, columns = ['k',\\\n",
    "                                'error_train', 'error_valid'])\n",
    "\n",
    "error_results = []\n",
    "for k in ks:\n",
    "    error_randoms = []\n",
    "    for i in range(10):\n",
    "        #train test split\n",
    "        X_train, X_test, Y_train, Y_test = train_test_split(X_data, Y_data,\\\n",
    "                                            random_state = i, test_size = 0.2)\n",
    "        #normalize the train and validation data sets.\n",
    "        X_train = preprocessing.scale(X_train)\n",
    "        X_test = preprocessing.scale(X_test)\n",
    "        \n",
    "        scores = two_NN(X_train, Y_train, X_test, Y_test, k, 0.01, 256)\n",
    "        score_train, score_test = scores\n",
    "        error_randoms.append((1-np.float32(score_train[1]), \\\n",
    "                              1-np.float32(score_test[1])))\n",
    "    error_results.append((k, np.mean(error_randoms[0]), \\\n",
    "                          np.mean(error_randoms[1])))\n",
    "    \n",
    "y1 = pd.DataFrame(data = error_results, columns = ['k',\\\n",
    "                                'error_train', 'error_valid'])"
   ]
  },
  {
   "cell_type": "code",
   "execution_count": 4,
   "metadata": {},
   "outputs": [
    {
     "data": {
      "text/html": [
       "<div>\n",
       "<style scoped>\n",
       "    .dataframe tbody tr th:only-of-type {\n",
       "        vertical-align: middle;\n",
       "    }\n",
       "\n",
       "    .dataframe tbody tr th {\n",
       "        vertical-align: top;\n",
       "    }\n",
       "\n",
       "    .dataframe thead th {\n",
       "        text-align: right;\n",
       "    }\n",
       "</style>\n",
       "<table border=\"1\" class=\"dataframe\">\n",
       "  <thead>\n",
       "    <tr style=\"text-align: right;\">\n",
       "      <th></th>\n",
       "      <th>k</th>\n",
       "      <th>error_train</th>\n",
       "      <th>error_valid</th>\n",
       "    </tr>\n",
       "  </thead>\n",
       "  <tbody>\n",
       "    <tr>\n",
       "      <th>0</th>\n",
       "      <td>32</td>\n",
       "      <td>0.070355</td>\n",
       "      <td>0.071787</td>\n",
       "    </tr>\n",
       "    <tr>\n",
       "      <th>1</th>\n",
       "      <td>64</td>\n",
       "      <td>0.060806</td>\n",
       "      <td>0.062632</td>\n",
       "    </tr>\n",
       "    <tr>\n",
       "      <th>2</th>\n",
       "      <td>128</td>\n",
       "      <td>0.060052</td>\n",
       "      <td>0.066496</td>\n",
       "    </tr>\n",
       "    <tr>\n",
       "      <th>3</th>\n",
       "      <td>256</td>\n",
       "      <td>0.064247</td>\n",
       "      <td>0.066390</td>\n",
       "    </tr>\n",
       "  </tbody>\n",
       "</table>\n",
       "</div>"
      ],
      "text/plain": [
       "     k  error_train  error_valid\n",
       "0   32     0.070355     0.071787\n",
       "1   64     0.060806     0.062632\n",
       "2  128     0.060052     0.066496\n",
       "3  256     0.064247     0.066390"
      ]
     },
     "execution_count": 4,
     "metadata": {},
     "output_type": "execute_result"
    }
   ],
   "source": [
    "x1"
   ]
  },
  {
   "cell_type": "code",
   "execution_count": 5,
   "metadata": {},
   "outputs": [
    {
     "data": {
      "text/html": [
       "<div>\n",
       "<style scoped>\n",
       "    .dataframe tbody tr th:only-of-type {\n",
       "        vertical-align: middle;\n",
       "    }\n",
       "\n",
       "    .dataframe tbody tr th {\n",
       "        vertical-align: top;\n",
       "    }\n",
       "\n",
       "    .dataframe thead th {\n",
       "        text-align: right;\n",
       "    }\n",
       "</style>\n",
       "<table border=\"1\" class=\"dataframe\">\n",
       "  <thead>\n",
       "    <tr style=\"text-align: right;\">\n",
       "      <th></th>\n",
       "      <th>k</th>\n",
       "      <th>error_train</th>\n",
       "      <th>error_valid</th>\n",
       "    </tr>\n",
       "  </thead>\n",
       "  <tbody>\n",
       "    <tr>\n",
       "      <th>0</th>\n",
       "      <td>32</td>\n",
       "      <td>0.059091</td>\n",
       "      <td>0.059288</td>\n",
       "    </tr>\n",
       "    <tr>\n",
       "      <th>1</th>\n",
       "      <td>64</td>\n",
       "      <td>0.058447</td>\n",
       "      <td>0.058389</td>\n",
       "    </tr>\n",
       "    <tr>\n",
       "      <th>2</th>\n",
       "      <td>128</td>\n",
       "      <td>0.057447</td>\n",
       "      <td>0.058029</td>\n",
       "    </tr>\n",
       "    <tr>\n",
       "      <th>3</th>\n",
       "      <td>256</td>\n",
       "      <td>0.059173</td>\n",
       "      <td>0.060532</td>\n",
       "    </tr>\n",
       "  </tbody>\n",
       "</table>\n",
       "</div>"
      ],
      "text/plain": [
       "     k  error_train  error_valid\n",
       "0   32     0.059091     0.059288\n",
       "1   64     0.058447     0.058389\n",
       "2  128     0.057447     0.058029\n",
       "3  256     0.059173     0.060532"
      ]
     },
     "execution_count": 5,
     "metadata": {},
     "output_type": "execute_result"
    }
   ],
   "source": [
    "y1"
   ]
  },
  {
   "cell_type": "code",
   "execution_count": 6,
   "metadata": {},
   "outputs": [
    {
     "data": {
      "image/png": "[encoded data removed]",
      "text/plain": [
       "<Figure size 720x216 with 2 Axes>"
      ]
     },
     "metadata": {
      "needs_background": "light"
     },
     "output_type": "display_data"
    }
   ],
   "source": [
    "import matplotlib.pyplot as plt\n",
    "%matplotlib inline\n",
    "\n",
    "# Plot the results\n",
    "plt.figure(figsize=(10,3))\n",
    "plt.subplot(121)\n",
    "plt.plot(x1['k'], x1['error_train'], 'r-*', label='error of train set')\n",
    "plt.plot(x1['k'], x1['error_valid'], 'b-o', label='error of valid set')\n",
    "plt.xlabel('iteration')\n",
    "plt.ylabel('errors')\n",
    "plt.legend()\n",
    "\n",
    "plt.subplot(122)\n",
    "plt.plot(y1['k'], y1['error_train'], 'r-*', label='error of train set')\n",
    "plt.plot(y1['k'], y1['error_valid'], 'b-o', label='error of valid set')\n",
    "plt.xlabel('iteration')\n",
    "plt.ylabel('errors')\n",
    "plt.legend()\n",
    "plt.show()"
   ]
  },
  {
   "cell_type": "markdown",
   "metadata": {},
   "source": [
    "## madelon"
   ]
  },
  {
   "cell_type": "code",
   "execution_count": 7,
   "metadata": {},
   "outputs": [
    {
     "name": "stderr",
     "output_type": "stream",
     "text": [
      "C:\\Users\\Jay_Kim\\Anaconda3\\lib\\site-packages\\ipykernel_launcher.py:14: DataConversionWarning: Data with input dtype int64 were all converted to float64 by the scale function.\n",
      "  \n",
      "C:\\Users\\Jay_Kim\\Anaconda3\\lib\\site-packages\\ipykernel_launcher.py:15: DataConversionWarning: Data with input dtype int64 were all converted to float64 by the scale function.\n",
      "  from ipykernel import kernelapp as app\n"
     ]
    }
   ],
   "source": [
    "import numpy as np\n",
    "from sklearn import preprocessing\n",
    "\n",
    "# Reading in the MADELON data set\n",
    "X_train = pd.read_csv('madelon\\madelon_train.data', header = None,\\\n",
    "                      delimiter = ' ').dropna(axis='columns')\n",
    "Y_train = pd.read_csv('madelon\\madelon_train.labels', header = None)\n",
    "#Y_train = np.array(np.float32(Y_train))\n",
    "\n",
    "X_test = pd.read_csv('madelon\\madelon_valid.data', header = None, \\\n",
    "                      delimiter = ' ').dropna(axis='columns')\n",
    "Y_test = pd.read_csv('madelon\\madelon_valid.labels', header = None)\n",
    "#Y_test = np.array(np.float32(Y_test))\n",
    "\n",
    "#normalize the train and validation data sets.\n",
    "X_train = np.array(preprocessing.scale(X_train))\n",
    "X_test = np.array(preprocessing.scale(X_test))\n",
    "Y_train = (Y_train+1)/2\n",
    "Y_test = (Y_test+1)/2\n",
    "\n",
    "ks = np.array([32, 64, 128, 256])\n",
    "\n",
    "error_results = []\n",
    "# Run logistic regression\n",
    "for k in ks:\n",
    "    scores = one_NN(X_train, Y_train, X_test, Y_test, k, 0.003, 16)\n",
    "    score_train, score_test = scores\n",
    "    error_results.append((k, 1-np.float32(score_train[1]),\\\n",
    "                          1-np.float32(score_test[1])))\n",
    "        \n",
    "x3 = pd.DataFrame(data = error_results, columns = ['k',\\\n",
    "                                'error_train', 'error_valid'])\n",
    "\n",
    "error_results = []\n",
    "for k in ks:\n",
    "    scores = two_NN(X_train, Y_train, X_test, Y_test, k, 0.003, 16)\n",
    "    score_train, score_test = scores\n",
    "    error_results.append((k, 1-np.float32(score_train[1]), \\\n",
    "                          1-np.float32(score_test[1])))\n",
    "    \n",
    "y3 = pd.DataFrame(data = error_results, columns = ['k',\\\n",
    "                                'error_train', 'error_valid'])"
   ]
  },
  {
   "cell_type": "code",
   "execution_count": 8,
   "metadata": {},
   "outputs": [
    {
     "data": {
      "text/html": [
       "<div>\n",
       "<style scoped>\n",
       "    .dataframe tbody tr th:only-of-type {\n",
       "        vertical-align: middle;\n",
       "    }\n",
       "\n",
       "    .dataframe tbody tr th {\n",
       "        vertical-align: top;\n",
       "    }\n",
       "\n",
       "    .dataframe thead th {\n",
       "        text-align: right;\n",
       "    }\n",
       "</style>\n",
       "<table border=\"1\" class=\"dataframe\">\n",
       "  <thead>\n",
       "    <tr style=\"text-align: right;\">\n",
       "      <th></th>\n",
       "      <th>k</th>\n",
       "      <th>error_train</th>\n",
       "      <th>error_valid</th>\n",
       "    </tr>\n",
       "  </thead>\n",
       "  <tbody>\n",
       "    <tr>\n",
       "      <th>0</th>\n",
       "      <td>32</td>\n",
       "      <td>0.0</td>\n",
       "      <td>0.416667</td>\n",
       "    </tr>\n",
       "    <tr>\n",
       "      <th>1</th>\n",
       "      <td>64</td>\n",
       "      <td>0.0</td>\n",
       "      <td>0.390000</td>\n",
       "    </tr>\n",
       "    <tr>\n",
       "      <th>2</th>\n",
       "      <td>128</td>\n",
       "      <td>0.0</td>\n",
       "      <td>0.406667</td>\n",
       "    </tr>\n",
       "    <tr>\n",
       "      <th>3</th>\n",
       "      <td>256</td>\n",
       "      <td>0.0</td>\n",
       "      <td>0.400000</td>\n",
       "    </tr>\n",
       "  </tbody>\n",
       "</table>\n",
       "</div>"
      ],
      "text/plain": [
       "     k  error_train  error_valid\n",
       "0   32          0.0     0.416667\n",
       "1   64          0.0     0.390000\n",
       "2  128          0.0     0.406667\n",
       "3  256          0.0     0.400000"
      ]
     },
     "execution_count": 8,
     "metadata": {},
     "output_type": "execute_result"
    }
   ],
   "source": [
    "x3"
   ]
  },
  {
   "cell_type": "code",
   "execution_count": 9,
   "metadata": {},
   "outputs": [
    {
     "data": {
      "text/html": [
       "<div>\n",
       "<style scoped>\n",
       "    .dataframe tbody tr th:only-of-type {\n",
       "        vertical-align: middle;\n",
       "    }\n",
       "\n",
       "    .dataframe tbody tr th {\n",
       "        vertical-align: top;\n",
       "    }\n",
       "\n",
       "    .dataframe thead th {\n",
       "        text-align: right;\n",
       "    }\n",
       "</style>\n",
       "<table border=\"1\" class=\"dataframe\">\n",
       "  <thead>\n",
       "    <tr style=\"text-align: right;\">\n",
       "      <th></th>\n",
       "      <th>k</th>\n",
       "      <th>error_train</th>\n",
       "      <th>error_valid</th>\n",
       "    </tr>\n",
       "  </thead>\n",
       "  <tbody>\n",
       "    <tr>\n",
       "      <th>0</th>\n",
       "      <td>32</td>\n",
       "      <td>0.0</td>\n",
       "      <td>0.410000</td>\n",
       "    </tr>\n",
       "    <tr>\n",
       "      <th>1</th>\n",
       "      <td>64</td>\n",
       "      <td>0.0</td>\n",
       "      <td>0.406667</td>\n",
       "    </tr>\n",
       "    <tr>\n",
       "      <th>2</th>\n",
       "      <td>128</td>\n",
       "      <td>0.0</td>\n",
       "      <td>0.383333</td>\n",
       "    </tr>\n",
       "    <tr>\n",
       "      <th>3</th>\n",
       "      <td>256</td>\n",
       "      <td>0.0</td>\n",
       "      <td>0.406667</td>\n",
       "    </tr>\n",
       "  </tbody>\n",
       "</table>\n",
       "</div>"
      ],
      "text/plain": [
       "     k  error_train  error_valid\n",
       "0   32          0.0     0.410000\n",
       "1   64          0.0     0.406667\n",
       "2  128          0.0     0.383333\n",
       "3  256          0.0     0.406667"
      ]
     },
     "execution_count": 9,
     "metadata": {},
     "output_type": "execute_result"
    }
   ],
   "source": [
    "y3"
   ]
  },
  {
   "cell_type": "code",
   "execution_count": 10,
   "metadata": {
    "scrolled": true
   },
   "outputs": [
    {
     "data": {
      "image/png": "[encoded data removed]",
      "text/plain": [
       "<Figure size 720x216 with 2 Axes>"
      ]
     },
     "metadata": {
      "needs_background": "light"
     },
     "output_type": "display_data"
    }
   ],
   "source": [
    "import matplotlib.pyplot as plt\n",
    "%matplotlib inline\n",
    "\n",
    "# Plot the results\n",
    "plt.figure(figsize=(10,3))\n",
    "plt.subplot(121)\n",
    "plt.plot(x3['k'], x3['error_train'], 'r-*', label='error of train set')\n",
    "plt.plot(x3['k'], x3['error_valid'], 'b-o', label='error of valid set')\n",
    "plt.xlabel('iteration')\n",
    "plt.ylabel('errors')\n",
    "plt.legend()\n",
    "\n",
    "plt.subplot(122)\n",
    "plt.plot(y3['k'], y3['error_train'], 'r-*', label='error of train set')\n",
    "plt.plot(y3['k'], y3['error_valid'], 'b-o', label='error of valid set')\n",
    "plt.xlabel('iteration')\n",
    "plt.ylabel('errors')\n",
    "plt.legend()\n",
    "plt.show()\n"
   ]
  }
 ],
 "metadata": {
  "kernelspec": {
   "display_name": "Python 3",
   "language": "python",
   "name": "python3"
  },
  "language_info": {
   "codemirror_mode": {
    "name": "ipython",
    "version": 3
   },
   "file_extension": ".py",
   "mimetype": "text/x-python",
   "name": "python",
   "nbconvert_exporter": "python",
   "pygments_lexer": "ipython3",
   "version": "3.6.5"
  }
 },
 "nbformat": 4,
 "nbformat_minor": 2
}
